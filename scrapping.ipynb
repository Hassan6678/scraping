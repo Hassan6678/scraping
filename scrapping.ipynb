{
 "cells": [
  {
   "cell_type": "code",
   "execution_count": 12,
   "metadata": {},
   "outputs": [],
   "source": [
    "from selenium import webdriver\n",
    "from selenium.webdriver.common.keys import Keys\n",
    "from selenium.webdriver.firefox.service import Service as FirefoxService\n",
    "\n",
    "from time import sleep"
   ]
  },
  {
   "cell_type": "code",
   "execution_count": 16,
   "metadata": {},
   "outputs": [],
   "source": [
    "# Set the path to the geckodriver.exe file\n",
    "gecko_driver_path = \"geckodriver.exe\"  # Replace with the actual path\n",
    "\n",
    "# Set up Firefox options (optional)\n",
    "firefox_options = webdriver.FirefoxOptions()\n",
    "# Add any additional options as needed\n",
    "\n",
    "# Create a Firefox service\n",
    "firefox_service = FirefoxService(executable_path=gecko_driver_path)\n",
    "\n",
    "# Create a Firefox webdriver\n",
    "driver = webdriver.Firefox(service=firefox_service, options=firefox_options)\n",
    "\n",
    "# Open the website\n",
    "url = \"https://www.mystore411.com/store/sl/A\"\n",
    "driver.get(url)\n",
    "\n",
    "# Close the browser window (optional)\n",
    "# driver.quit()"
   ]
  },
  {
   "cell_type": "code",
   "execution_count": 19,
   "metadata": {},
   "outputs": [],
   "source": [
    "driver.quit()"
   ]
  },
  {
   "cell_type": "code",
   "execution_count": null,
   "metadata": {},
   "outputs": [],
   "source": []
  }
 ],
 "metadata": {
  "kernelspec": {
   "display_name": "office",
   "language": "python",
   "name": "python3"
  },
  "language_info": {
   "codemirror_mode": {
    "name": "ipython",
    "version": 3
   },
   "file_extension": ".py",
   "mimetype": "text/x-python",
   "name": "python",
   "nbconvert_exporter": "python",
   "pygments_lexer": "ipython3",
   "version": "3.10.8"
  }
 },
 "nbformat": 4,
 "nbformat_minor": 2
}
