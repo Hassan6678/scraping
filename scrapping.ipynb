{
 "cells": [
  {
   "cell_type": "code",
   "execution_count": 44,
   "metadata": {},
   "outputs": [],
   "source": [
    "from selenium import webdriver\n",
    "from selenium.webdriver.common.keys import Keys\n",
    "from selenium.webdriver.common.by import By\n",
    "from selenium.webdriver.firefox.service import Service as FirefoxService\n",
    "import re\n",
    "from time import sleep"
   ]
  },
  {
   "cell_type": "code",
   "execution_count": 2,
   "metadata": {},
   "outputs": [],
   "source": [
    "# Set the path to the geckodriver.exe file\n",
    "gecko_driver_path = \"geckodriver.exe\"  # Replace with the actual path\n",
    "\n",
    "# Set up Firefox options (optional)\n",
    "firefox_options = webdriver.FirefoxOptions()\n",
    "# Add any additional options as needed\n",
    "\n",
    "# Create a Firefox service\n",
    "firefox_service = FirefoxService(executable_path=gecko_driver_path)\n",
    "\n",
    "# Create a Firefox webdriver\n",
    "driver = webdriver.Firefox(service=firefox_service, options=firefox_options)\n",
    "\n",
    "# Open the website\n",
    "url = \"https://www.mystore411.com/store/sl/A\"\n",
    "driver.get(url)\n",
    "\n",
    "# Close the browser window (optional)\n",
    "# driver.quit()"
   ]
  },
  {
   "cell_type": "code",
   "execution_count": 32,
   "metadata": {},
   "outputs": [],
   "source": [
    "driver.quit()"
   ]
  },
  {
   "cell_type": "code",
   "execution_count": 5,
   "metadata": {},
   "outputs": [],
   "source": [
    "# target_link.click()\n",
    "# driver.back()"
   ]
  },
  {
   "cell_type": "code",
   "execution_count": 3,
   "metadata": {},
   "outputs": [],
   "source": [
    "# Find the element with the ID \"sl_popular\"\n",
    "first_page_store_list = driver.find_element(By.ID,\"sl_popular\")"
   ]
  },
  {
   "cell_type": "code",
   "execution_count": 4,
   "metadata": {},
   "outputs": [],
   "source": [
    "# Find all <li> elements within the element with ID \"sl_popular\"\n",
    "li_elements = first_page_store_list.find_elements(By.TAG_NAME,\"li\")"
   ]
  },
  {
   "cell_type": "code",
   "execution_count": 5,
   "metadata": {},
   "outputs": [
    {
     "data": {
      "text/plain": [
       "['A Cleaner World', 'A Pea in the Pod']"
      ]
     },
     "execution_count": 5,
     "metadata": {},
     "output_type": "execute_result"
    }
   ],
   "source": [
    "# Extract text from each <li> element\n",
    "li_texts = [li.text for li in li_elements]\n",
    "li_texts[:2]"
   ]
  },
  {
   "cell_type": "code",
   "execution_count": 6,
   "metadata": {},
   "outputs": [],
   "source": [
    "# Find the link by its text (you can also use other locators like ID, class, XPath, etc.)\n",
    "link_text = \"ALDI\"  # Replace with the actual link text\n",
    "target_link = driver.find_element(By.LINK_TEXT, \"ALDI\")"
   ]
  },
  {
   "cell_type": "code",
   "execution_count": 7,
   "metadata": {},
   "outputs": [],
   "source": [
    "target_link.click()"
   ]
  },
  {
   "cell_type": "code",
   "execution_count": 8,
   "metadata": {},
   "outputs": [],
   "source": [
    "# second_page_country = driver.find_element(By.ID,\"slim_sidebar\")\n",
    "# header_elements = second_page_country.find_elements(By.TAG_NAME,\"h3\")\n",
    "# header_elements = [h.text for h in header_elements]\n",
    "# header_elements"
   ]
  },
  {
   "cell_type": "code",
   "execution_count": 10,
   "metadata": {},
   "outputs": [
    {
     "name": "stdout",
     "output_type": "stream",
     "text": [
      "YES\n"
     ]
    }
   ],
   "source": [
    "second_page_country = driver.find_element(By.ID,\"slim_sidebar\")\n",
    "list_elements = second_page_country.find_elements(By.TAG_NAME,\"li\")\n",
    "country_list = [li.text for li in list_elements]\n",
    "# Count occurrences of 'Germany' in the list\n",
    "germany = country_list.count('Germany')\n",
    "\n",
    "if germany:\n",
    "    print('YES')\n",
    "    target_link = second_page_country.find_element(By.LINK_TEXT, \"Germany\")\n",
    "    target_link.click()\n",
    "    germany = 0"
   ]
  },
  {
   "cell_type": "code",
   "execution_count": 13,
   "metadata": {},
   "outputs": [
    {
     "data": {
      "text/plain": [
       "['Aachen', 'Achim', 'Adelsdorf']"
      ]
     },
     "execution_count": 13,
     "metadata": {},
     "output_type": "execute_result"
    }
   ],
   "source": [
    "list_elements = driver.find_elements(By.TAG_NAME,\"td\")\n",
    "state_list = [td.text for td in list_elements]\n",
    "pages = state_list[0]\n",
    "states = state_list[1:]\n",
    "states[:3]"
   ]
  },
  {
   "cell_type": "code",
   "execution_count": 14,
   "metadata": {},
   "outputs": [],
   "source": [
    "target_link = driver.find_element(By.LINK_TEXT, \"Aachen\")\n",
    "target_link.click()"
   ]
  },
  {
   "cell_type": "code",
   "execution_count": 19,
   "metadata": {},
   "outputs": [
    {
     "data": {
      "text/plain": [
       "['ALDI - Elsassstraße 139 in Aachen',\n",
       " 'ALDI - Forster Straße 5 in Aachen',\n",
       " 'ALDI - Franzstraße 2 in Aachen',\n",
       " 'ALDI - Freunder Weg 23 in Aachen',\n",
       " 'ALDI - Grüner Weg 32 in Aachen',\n",
       " 'ALDI - Lütticher Straße 504 in Aachen',\n",
       " 'ALDI - Neuenhofstraße 192 in Aachen',\n",
       " 'ALDI - Roder Weg 4 in Aachen',\n",
       " 'ALDI - Schillerstraße 20 in Aachen',\n",
       " 'ALDI - Süsterfeldstraße 63 in Aachen',\n",
       " 'ALDI - Trierer Straße 688 in Aachen',\n",
       " 'ALDI - Werkstraße 21 in Aachen',\n",
       " 'ALDI - Weststraße 28 in Aachen']"
      ]
     },
     "execution_count": 19,
     "metadata": {},
     "output_type": "execute_result"
    }
   ],
   "source": [
    "list_elements = driver.find_elements(By.XPATH, '//*[@id=\"main\"]/table/tbody/tr/td/a')#driver.find_elements(By.TAG_NAME,\"td\")\n",
    "stores_list = [td.text for td in list_elements]\n",
    "stores_list"
   ]
  },
  {
   "cell_type": "code",
   "execution_count": 20,
   "metadata": {},
   "outputs": [],
   "source": [
    "target_link = driver.find_element(By.LINK_TEXT, stores_list[0])\n",
    "target_link.click()"
   ]
  },
  {
   "cell_type": "code",
   "execution_count": 34,
   "metadata": {},
   "outputs": [
    {
     "data": {
      "text/plain": [
       "'ALDI - Elsassstraße 139 in Aachen (Grocery Supermarket ) - Location & Hours'"
      ]
     },
     "execution_count": 34,
     "metadata": {},
     "output_type": "execute_result"
    }
   ],
   "source": [
    "store_name = driver.find_element(By.CLASS_NAME, 'store_title')\n",
    "store_name.text"
   ]
  },
  {
   "cell_type": "code",
   "execution_count": 37,
   "metadata": {},
   "outputs": [
    {
     "data": {
      "text/plain": [
       "'Elsassstraße 139\\nAachen, Aachen 52068'"
      ]
     },
     "execution_count": 37,
     "metadata": {},
     "output_type": "execute_result"
    }
   ],
   "source": [
    "address = driver.find_element(By.CLASS_NAME, 'adr').text\n",
    "address"
   ]
  },
  {
   "cell_type": "code",
   "execution_count": 46,
   "metadata": {},
   "outputs": [
    {
     "name": "stdout",
     "output_type": "stream",
     "text": [
      "Mo: 08:00-21:00\n",
      "Di: 08:00-21:00\n",
      "Mi: 08:00-21:00\n",
      "Do: 08:00-21:00\n",
      "Fr: 08:00-21:00\n",
      "Sa: 08:00-21:00\n",
      "So: geschlossen\n"
     ]
    }
   ],
   "source": [
    "list_elements = driver.find_elements(By.TAG_NAME, 'p')\n",
    "stores_list = [td.text for td in list_elements]\n",
    "\n",
    "# Join the list into a single string for easier matching\n",
    "info_text = '\\n'.join(stores_list)\n",
    "\n",
    "# Use regex to extract the schedule information\n",
    "schedule_pattern = re.compile(r'Mo:.*?So:.*?(?=\\n\\n)', re.DOTALL)\n",
    "schedule_match = schedule_pattern.search(info_text)\n",
    "schedule_info = schedule_match.group()\n",
    "print(schedule_info)"
   ]
  },
  {
   "cell_type": "code",
   "execution_count": null,
   "metadata": {},
   "outputs": [],
   "source": []
  }
 ],
 "metadata": {
  "kernelspec": {
   "display_name": "office",
   "language": "python",
   "name": "python3"
  },
  "language_info": {
   "codemirror_mode": {
    "name": "ipython",
    "version": 3
   },
   "file_extension": ".py",
   "mimetype": "text/x-python",
   "name": "python",
   "nbconvert_exporter": "python",
   "pygments_lexer": "ipython3",
   "version": "3.10.8"
  }
 },
 "nbformat": 4,
 "nbformat_minor": 2
}
