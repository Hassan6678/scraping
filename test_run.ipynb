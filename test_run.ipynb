{
 "cells": [
  {
   "cell_type": "code",
   "execution_count": 1,
   "metadata": {},
   "outputs": [],
   "source": [
    "from selenium import webdriver\n",
    "from selenium.webdriver.common.keys import Keys\n",
    "from selenium.webdriver.common.by import By\n",
    "from selenium.webdriver.firefox.service import Service as FirefoxService\n",
    "import re\n",
    "from time import sleep\n",
    "\n",
    "import warnings\n",
    "warnings.filterwarnings('ignore')"
   ]
  },
  {
   "cell_type": "code",
   "execution_count": 6,
   "metadata": {},
   "outputs": [],
   "source": [
    "gecko_driver_path = \"geckodriver.exe\"\n",
    "firefox_options = webdriver.FirefoxOptions()\n",
    "firefox_service = FirefoxService(executable_path=gecko_driver_path)\n",
    "driver = webdriver.Firefox(service=firefox_service, options=firefox_options)\n",
    "url = \"https://www.mystore411.com/store/sl/A\"\n",
    "driver.get(url)"
   ]
  },
  {
   "cell_type": "code",
   "execution_count": 7,
   "metadata": {},
   "outputs": [],
   "source": [
    "first_page_store_list = driver.find_element(By.ID,\"sl_popular\")\n",
    "li_elements = first_page_store_list.find_elements(By.TAG_NAME,\"li\")\n",
    "li_texts = [li.text for li in li_elements]"
   ]
  },
  {
   "cell_type": "code",
   "execution_count": null,
   "metadata": {},
   "outputs": [],
   "source": [
    "li_texts = ['ALDI']"
   ]
  },
  {
   "cell_type": "code",
   "execution_count": 10,
   "metadata": {},
   "outputs": [
    {
     "name": "stdout",
     "output_type": "stream",
     "text": [
      "Country Found\n"
     ]
    },
    {
     "ename": "NoSuchElementException",
     "evalue": "Message: Unable to locate element: APO; For documentation on this error, please visit: https://www.selenium.dev/documentation/webdriver/troubleshooting/errors#no-such-element-exception\nStacktrace:\nRemoteError@chrome://remote/content/shared/RemoteError.sys.mjs:8:8\nWebDriverError@chrome://remote/content/shared/webdriver/Errors.sys.mjs:189:5\nNoSuchElementError@chrome://remote/content/shared/webdriver/Errors.sys.mjs:507:5\ndom.find/</<@chrome://remote/content/shared/DOM.sys.mjs:132:16\n",
     "output_type": "error",
     "traceback": [
      "\u001b[1;31m---------------------------------------------------------------------------\u001b[0m",
      "\u001b[1;31mNoSuchElementException\u001b[0m                    Traceback (most recent call last)",
      "Cell \u001b[1;32mIn [10], line 33\u001b[0m\n\u001b[0;32m     31\u001b[0m     \u001b[38;5;28;01mcontinue\u001b[39;00m\n\u001b[0;32m     32\u001b[0m \u001b[38;5;28;01mfor\u001b[39;00m state \u001b[38;5;129;01min\u001b[39;00m states:\n\u001b[1;32m---> 33\u001b[0m     target_link \u001b[38;5;241m=\u001b[39m \u001b[43mdriver\u001b[49m\u001b[38;5;241;43m.\u001b[39;49m\u001b[43mfind_element\u001b[49m\u001b[43m(\u001b[49m\u001b[43mBy\u001b[49m\u001b[38;5;241;43m.\u001b[39;49m\u001b[43mLINK_TEXT\u001b[49m\u001b[43m,\u001b[49m\u001b[43m \u001b[49m\u001b[43mstate\u001b[49m\u001b[43m)\u001b[49m\n\u001b[0;32m     34\u001b[0m     target_link\u001b[38;5;241m.\u001b[39mclick()\n\u001b[0;32m     35\u001b[0m     list_elements \u001b[38;5;241m=\u001b[39m driver\u001b[38;5;241m.\u001b[39mfind_elements(By\u001b[38;5;241m.\u001b[39mXPATH, \u001b[38;5;124m'\u001b[39m\u001b[38;5;124m//*[@id=\u001b[39m\u001b[38;5;124m\"\u001b[39m\u001b[38;5;124mmain\u001b[39m\u001b[38;5;124m\"\u001b[39m\u001b[38;5;124m]/table/tbody/tr/td/a\u001b[39m\u001b[38;5;124m'\u001b[39m)\u001b[38;5;66;03m#driver.find_elements(By.TAG_NAME,\"td\")\u001b[39;00m\n",
      "File \u001b[1;32mc:\\Users\\Hassan Raza\\miniconda3\\envs\\py10\\lib\\site-packages\\selenium\\webdriver\\remote\\webdriver.py:742\u001b[0m, in \u001b[0;36mWebDriver.find_element\u001b[1;34m(self, by, value)\u001b[0m\n\u001b[0;32m    739\u001b[0m     by \u001b[38;5;241m=\u001b[39m By\u001b[38;5;241m.\u001b[39mCSS_SELECTOR\n\u001b[0;32m    740\u001b[0m     value \u001b[38;5;241m=\u001b[39m \u001b[38;5;124mf\u001b[39m\u001b[38;5;124m'\u001b[39m\u001b[38;5;124m[name=\u001b[39m\u001b[38;5;124m\"\u001b[39m\u001b[38;5;132;01m{\u001b[39;00mvalue\u001b[38;5;132;01m}\u001b[39;00m\u001b[38;5;124m\"\u001b[39m\u001b[38;5;124m]\u001b[39m\u001b[38;5;124m'\u001b[39m\n\u001b[1;32m--> 742\u001b[0m \u001b[38;5;28;01mreturn\u001b[39;00m \u001b[38;5;28;43mself\u001b[39;49m\u001b[38;5;241;43m.\u001b[39;49m\u001b[43mexecute\u001b[49m\u001b[43m(\u001b[49m\u001b[43mCommand\u001b[49m\u001b[38;5;241;43m.\u001b[39;49m\u001b[43mFIND_ELEMENT\u001b[49m\u001b[43m,\u001b[49m\u001b[43m \u001b[49m\u001b[43m{\u001b[49m\u001b[38;5;124;43m\"\u001b[39;49m\u001b[38;5;124;43musing\u001b[39;49m\u001b[38;5;124;43m\"\u001b[39;49m\u001b[43m:\u001b[49m\u001b[43m \u001b[49m\u001b[43mby\u001b[49m\u001b[43m,\u001b[49m\u001b[43m \u001b[49m\u001b[38;5;124;43m\"\u001b[39;49m\u001b[38;5;124;43mvalue\u001b[39;49m\u001b[38;5;124;43m\"\u001b[39;49m\u001b[43m:\u001b[49m\u001b[43m \u001b[49m\u001b[43mvalue\u001b[49m\u001b[43m}\u001b[49m\u001b[43m)\u001b[49m[\u001b[38;5;124m\"\u001b[39m\u001b[38;5;124mvalue\u001b[39m\u001b[38;5;124m\"\u001b[39m]\n",
      "File \u001b[1;32mc:\\Users\\Hassan Raza\\miniconda3\\envs\\py10\\lib\\site-packages\\selenium\\webdriver\\remote\\webdriver.py:348\u001b[0m, in \u001b[0;36mWebDriver.execute\u001b[1;34m(self, driver_command, params)\u001b[0m\n\u001b[0;32m    346\u001b[0m response \u001b[38;5;241m=\u001b[39m \u001b[38;5;28mself\u001b[39m\u001b[38;5;241m.\u001b[39mcommand_executor\u001b[38;5;241m.\u001b[39mexecute(driver_command, params)\n\u001b[0;32m    347\u001b[0m \u001b[38;5;28;01mif\u001b[39;00m response:\n\u001b[1;32m--> 348\u001b[0m     \u001b[38;5;28;43mself\u001b[39;49m\u001b[38;5;241;43m.\u001b[39;49m\u001b[43merror_handler\u001b[49m\u001b[38;5;241;43m.\u001b[39;49m\u001b[43mcheck_response\u001b[49m\u001b[43m(\u001b[49m\u001b[43mresponse\u001b[49m\u001b[43m)\u001b[49m\n\u001b[0;32m    349\u001b[0m     response[\u001b[38;5;124m\"\u001b[39m\u001b[38;5;124mvalue\u001b[39m\u001b[38;5;124m\"\u001b[39m] \u001b[38;5;241m=\u001b[39m \u001b[38;5;28mself\u001b[39m\u001b[38;5;241m.\u001b[39m_unwrap_value(response\u001b[38;5;241m.\u001b[39mget(\u001b[38;5;124m\"\u001b[39m\u001b[38;5;124mvalue\u001b[39m\u001b[38;5;124m\"\u001b[39m, \u001b[38;5;28;01mNone\u001b[39;00m))\n\u001b[0;32m    350\u001b[0m     \u001b[38;5;28;01mreturn\u001b[39;00m response\n",
      "File \u001b[1;32mc:\\Users\\Hassan Raza\\miniconda3\\envs\\py10\\lib\\site-packages\\selenium\\webdriver\\remote\\errorhandler.py:229\u001b[0m, in \u001b[0;36mErrorHandler.check_response\u001b[1;34m(self, response)\u001b[0m\n\u001b[0;32m    227\u001b[0m         alert_text \u001b[38;5;241m=\u001b[39m value[\u001b[38;5;124m\"\u001b[39m\u001b[38;5;124malert\u001b[39m\u001b[38;5;124m\"\u001b[39m]\u001b[38;5;241m.\u001b[39mget(\u001b[38;5;124m\"\u001b[39m\u001b[38;5;124mtext\u001b[39m\u001b[38;5;124m\"\u001b[39m)\n\u001b[0;32m    228\u001b[0m     \u001b[38;5;28;01mraise\u001b[39;00m exception_class(message, screen, stacktrace, alert_text)  \u001b[38;5;66;03m# type: ignore[call-arg]  # mypy is not smart enough here\u001b[39;00m\n\u001b[1;32m--> 229\u001b[0m \u001b[38;5;28;01mraise\u001b[39;00m exception_class(message, screen, stacktrace)\n",
      "\u001b[1;31mNoSuchElementException\u001b[0m: Message: Unable to locate element: APO; For documentation on this error, please visit: https://www.selenium.dev/documentation/webdriver/troubleshooting/errors#no-such-element-exception\nStacktrace:\nRemoteError@chrome://remote/content/shared/RemoteError.sys.mjs:8:8\nWebDriverError@chrome://remote/content/shared/webdriver/Errors.sys.mjs:189:5\nNoSuchElementError@chrome://remote/content/shared/webdriver/Errors.sys.mjs:507:5\ndom.find/</<@chrome://remote/content/shared/DOM.sys.mjs:132:16\n"
     ]
    }
   ],
   "source": [
    "data = []\n",
    "for link_text in li_texts:\n",
    "    target_link = driver.find_element(By.LINK_TEXT, link_text)\n",
    "    target_link.click()\n",
    "    second_page_country = driver.find_element(By.ID,\"slim_sidebar\")\n",
    "    list_elements = second_page_country.find_elements(By.TAG_NAME,\"li\")\n",
    "    country_list = [li.text for li in list_elements]\n",
    "    germany = country_list.count('Germany')\n",
    "\n",
    "    if germany:\n",
    "        print('Country Found')\n",
    "        target_link = second_page_country.find_element(By.LINK_TEXT, \"Germany\")\n",
    "        target_link.click()\n",
    "        germany = 0\n",
    "    else:\n",
    "        driver.back()\n",
    "        continue\n",
    "\n",
    "    # try:\n",
    "    #     table_head = driver.find_element(By.XPATH, \"//th[contains(text(), 'Store By State')]\")\n",
    "    # except Exception as e:\n",
    "    #     print(e)\n",
    "    #     driver.back()\n",
    "    #     continue\n",
    "\n",
    "    list_elements = driver.find_elements(By.TAG_NAME,\"td\")\n",
    "    state_list = [td.text for td in list_elements]\n",
    "    pages = state_list[0]\n",
    "    states = state_list[1:]\n",
    "    if len(states) == 0:\n",
    "        continue\n",
    "    for state in states:\n",
    "        target_link = driver.find_element(By.LINK_TEXT, state)\n",
    "        target_link.click()\n",
    "        list_elements = driver.find_elements(By.XPATH, '//*[@id=\"main\"]/table/tbody/tr/td/a')#driver.find_elements(By.TAG_NAME,\"td\")\n",
    "        stores_list = [td.text for td in list_elements]\n",
    "        for store in stores_list:\n",
    "            target_link = driver.find_element(By.LINK_TEXT, store)\n",
    "            target_link.click()\n",
    "            store_name = driver.find_element(By.CLASS_NAME, 'store_title').text\n",
    "            address = driver.find_element(By.CLASS_NAME, 'adr').text\n",
    "            list_elements = driver.find_elements(By.TAG_NAME, 'p')\n",
    "\n",
    "            hours = [td.text for td in list_elements]\n",
    "\n",
    "            # Join the list into a single string for easier matching\n",
    "            info_text = '\\n'.join(hours)\n",
    "\n",
    "            # Use regex to extract the schedule information\n",
    "            schedule_pattern = re.compile(r'Mo:.*?So:.*?(?=\\n\\n)', re.DOTALL)\n",
    "            schedule_match = schedule_pattern.search(info_text)\n",
    "            schedule_info = schedule_match.group()\n",
    "            print(store_name)\n",
    "            data.append([store_name,address,schedule_info])\n",
    "            driver.back()\n",
    "        driver.back()\n",
    "    driver.back()"
   ]
  },
  {
   "cell_type": "code",
   "execution_count": 14,
   "metadata": {},
   "outputs": [],
   "source": [
    "driver.quit()"
   ]
  },
  {
   "cell_type": "code",
   "execution_count": 58,
   "metadata": {},
   "outputs": [],
   "source": [
    "import pandas as pd\n",
    "df = pd.DataFrame(data,columns=['name','address','timing'])"
   ]
  },
  {
   "cell_type": "code",
   "execution_count": 59,
   "metadata": {},
   "outputs": [],
   "source": [
    "df.name = df.name.str.replace('- Location & Hours','').str.strip()\n",
    "df['type'] = df['name'].str.extract(r'\\((.*?)\\)')\n",
    "df['name'] = df['name'].str.replace(r'\\([^)]*\\)', '')"
   ]
  },
  {
   "cell_type": "code",
   "execution_count": 60,
   "metadata": {},
   "outputs": [],
   "source": [
    "df[['street_locality','region_postcode']] = df.address.str.split(',', 1, expand=True)\n",
    "df[['street','locality']] = df.street_locality.str.split('\\n', 1, expand=True)\n",
    "df[['region','postcode']] = df.address.str.split(' ', 1, expand=True)"
   ]
  },
  {
   "cell_type": "code",
   "execution_count": 61,
   "metadata": {},
   "outputs": [],
   "source": [
    "df.drop(['street_locality','region_postcode'],axis=1,inplace=True)"
   ]
  },
  {
   "cell_type": "code",
   "execution_count": 63,
   "metadata": {},
   "outputs": [
    {
     "data": {
      "text/html": [
       "<div>\n",
       "<style scoped>\n",
       "    .dataframe tbody tr th:only-of-type {\n",
       "        vertical-align: middle;\n",
       "    }\n",
       "\n",
       "    .dataframe tbody tr th {\n",
       "        vertical-align: top;\n",
       "    }\n",
       "\n",
       "    .dataframe thead th {\n",
       "        text-align: right;\n",
       "    }\n",
       "</style>\n",
       "<table border=\"1\" class=\"dataframe\">\n",
       "  <thead>\n",
       "    <tr style=\"text-align: right;\">\n",
       "      <th></th>\n",
       "      <th>name</th>\n",
       "      <th>address</th>\n",
       "      <th>timing</th>\n",
       "      <th>type</th>\n",
       "      <th>street</th>\n",
       "      <th>locality</th>\n",
       "      <th>region</th>\n",
       "      <th>postcode</th>\n",
       "    </tr>\n",
       "  </thead>\n",
       "  <tbody>\n",
       "    <tr>\n",
       "      <th>14</th>\n",
       "      <td>ALDI Nord - Embser Landstraße 4 - 6 in Achim</td>\n",
       "      <td>Embser Landstraße 4 - 6\\nAchim, Achim 28832</td>\n",
       "      <td>Mo: 07:00-21:00\\nDi: 07:00-21:00\\nMi: 07:00-21...</td>\n",
       "      <td>Grocery Supermarket</td>\n",
       "      <td>Embser Landstraße 4 - 6</td>\n",
       "      <td>Achim</td>\n",
       "      <td>Embser</td>\n",
       "      <td>Landstraße 4 - 6\\nAchim, Achim 28832</td>\n",
       "    </tr>\n",
       "  </tbody>\n",
       "</table>\n",
       "</div>"
      ],
      "text/plain": [
       "                                             name  \\\n",
       "14  ALDI Nord - Embser Landstraße 4 - 6 in Achim    \n",
       "\n",
       "                                        address  \\\n",
       "14  Embser Landstraße 4 - 6\\nAchim, Achim 28832   \n",
       "\n",
       "                                               timing                  type  \\\n",
       "14  Mo: 07:00-21:00\\nDi: 07:00-21:00\\nMi: 07:00-21...  Grocery Supermarket    \n",
       "\n",
       "                     street locality  region  \\\n",
       "14  Embser Landstraße 4 - 6    Achim  Embser   \n",
       "\n",
       "                                postcode  \n",
       "14  Landstraße 4 - 6\\nAchim, Achim 28832  "
      ]
     },
     "execution_count": 63,
     "metadata": {},
     "output_type": "execute_result"
    }
   ],
   "source": [
    "df.sample()"
   ]
  },
  {
   "cell_type": "code",
   "execution_count": 64,
   "metadata": {},
   "outputs": [],
   "source": [
    "df.to_csv('./demo.csv',index=False)"
   ]
  },
  {
   "cell_type": "code",
   "execution_count": null,
   "metadata": {},
   "outputs": [],
   "source": []
  }
 ],
 "metadata": {
  "kernelspec": {
   "display_name": "py10",
   "language": "python",
   "name": "python3"
  },
  "language_info": {
   "codemirror_mode": {
    "name": "ipython",
    "version": 3
   },
   "file_extension": ".py",
   "mimetype": "text/x-python",
   "name": "python",
   "nbconvert_exporter": "python",
   "pygments_lexer": "ipython3",
   "version": "3.10.8"
  }
 },
 "nbformat": 4,
 "nbformat_minor": 2
}
