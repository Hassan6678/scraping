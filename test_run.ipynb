{
 "cells": [
  {
   "cell_type": "code",
   "execution_count": 57,
   "metadata": {},
   "outputs": [],
   "source": [
    "from selenium import webdriver\n",
    "from selenium.webdriver.common.keys import Keys\n",
    "from selenium.webdriver.common.by import By\n",
    "from selenium.webdriver.firefox.service import Service as FirefoxService\n",
    "import re\n",
    "from time import sleep\n",
    "\n",
    "import warnings\n",
    "warnings.filterwarnings('ignore')"
   ]
  },
  {
   "cell_type": "code",
   "execution_count": 16,
   "metadata": {},
   "outputs": [],
   "source": [
    "gecko_driver_path = \"geckodriver.exe\"\n",
    "firefox_options = webdriver.FirefoxOptions()\n",
    "firefox_service = FirefoxService(executable_path=gecko_driver_path)\n",
    "driver = webdriver.Firefox(service=firefox_service, options=firefox_options)\n",
    "url = \"https://www.mystore411.com/store/sl/A\"\n",
    "driver.get(url)"
   ]
  },
  {
   "cell_type": "code",
   "execution_count": 17,
   "metadata": {},
   "outputs": [],
   "source": [
    "first_page_store_list = driver.find_element(By.ID,\"sl_popular\")\n",
    "li_elements = first_page_store_list.find_elements(By.TAG_NAME,\"li\")\n",
    "li_texts = [li.text for li in li_elements]"
   ]
  },
  {
   "cell_type": "code",
   "execution_count": 18,
   "metadata": {},
   "outputs": [],
   "source": [
    "li_texts = ['ALDI']"
   ]
  },
  {
   "cell_type": "code",
   "execution_count": 21,
   "metadata": {},
   "outputs": [
    {
     "name": "stdout",
     "output_type": "stream",
     "text": [
      "Country Found\n",
      "ALDI - Elsassstraße 139 in Aachen (Grocery Supermarket ) - Location & Hours\n",
      "ALDI - Forster Straße 5 in Aachen (Grocery Supermarket ) - Location & Hours\n",
      "ALDI - Franzstraße 2 in Aachen (Grocery Supermarket ) - Location & Hours\n",
      "ALDI - Freunder Weg 23 in Aachen (Grocery Supermarket ) - Location & Hours\n",
      "ALDI - Grüner Weg 32 in Aachen (Grocery Supermarket ) - Location & Hours\n",
      "ALDI - Lütticher Straße 504 in Aachen (Grocery Supermarket ) - Location & Hours\n",
      "ALDI - Neuenhofstraße 192 in Aachen (Grocery Supermarket ) - Location & Hours\n",
      "ALDI - Roder Weg 4 in Aachen (Grocery Supermarket ) - Location & Hours\n",
      "ALDI - Schillerstraße 20 in Aachen (Grocery Supermarket ) - Location & Hours\n",
      "ALDI - Süsterfeldstraße 63 in Aachen (Grocery Supermarket ) - Location & Hours\n",
      "ALDI - Trierer Straße 688 in Aachen (Grocery Supermarket ) - Location & Hours\n",
      "ALDI - Werkstraße 21 in Aachen (Grocery Supermarket ) - Location & Hours\n",
      "ALDI - Weststraße 28 in Aachen (Grocery Supermarket ) - Location & Hours\n",
      "ALDI Nord - Am Lahof 1 in Achim (Grocery Supermarket ) - Location & Hours\n",
      "ALDI Nord - Embser Landstraße 4 - 6 in Achim (Grocery Supermarket ) - Location & Hours\n",
      "ALDI Nord - Kleiwellenfeld 27 in Ahlen (Grocery Supermarket ) - Location & Hours\n",
      "ALDI Nord - Ostbredenstraße 77 in Ahlen (Grocery Supermarket ) - Location & Hours\n",
      "ALDI Nord - Bogenstraße 30 in Ahrensburg (Grocery Supermarket ) - Location & Hours\n",
      "ALDI Nord - Große Straße 26 in Ahrensburg (Grocery Supermarket ) - Location & Hours\n",
      "ALDI Nord - Kornkamp 46 g in Ahrensburg (Grocery Supermarket ) - Location & Hours\n"
     ]
    },
    {
     "ename": "ElementClickInterceptedException",
     "evalue": "Message: Element <a href=\"/store/list_state/198/Aachen/Germany/ALDI-store-locations\"> is not clickable at point (279,462) because another element <iframe id=\"aswift_4\" name=\"aswift_4\" src=\"https://googleads.g.doubleclick.net/pagead/html/r20231206/r20110914/zrt_lookup_fy2021.html?fsb=1#RS-0-&adk=2015714178&client=ca-pub-2770559672691399&fa=8&ifi=5&uci=a!5\"> obscures it\nStacktrace:\nRemoteError@chrome://remote/content/shared/RemoteError.sys.mjs:8:8\nWebDriverError@chrome://remote/content/shared/webdriver/Errors.sys.mjs:189:5\nElementClickInterceptedError@chrome://remote/content/shared/webdriver/Errors.sys.mjs:333:5\nwebdriverClickElement@chrome://remote/content/marionette/interaction.sys.mjs:176:11\ninteraction.clickElement@chrome://remote/content/marionette/interaction.sys.mjs:135:11\nclickElement@chrome://remote/content/marionette/actors/MarionetteCommandsChild.sys.mjs:202:29\nreceiveMessage@chrome://remote/content/marionette/actors/MarionetteCommandsChild.sys.mjs:84:31\n",
     "output_type": "error",
     "traceback": [
      "\u001b[1;31m---------------------------------------------------------------------------\u001b[0m",
      "\u001b[1;31mElementClickInterceptedException\u001b[0m          Traceback (most recent call last)",
      "\u001b[1;32mc:\\Users\\Hassan Raza\\Desktop\\Scrapping\\test_run.ipynb Cell 5\u001b[0m line \u001b[0;36m3\n\u001b[0;32m     <a href='vscode-notebook-cell:/c%3A/Users/Hassan%20Raza/Desktop/Scrapping/test_run.ipynb#W3sZmlsZQ%3D%3D?line=34'>35</a>\u001b[0m \u001b[39mfor\u001b[39;00m store \u001b[39min\u001b[39;00m stores_list:\n\u001b[0;32m     <a href='vscode-notebook-cell:/c%3A/Users/Hassan%20Raza/Desktop/Scrapping/test_run.ipynb#W3sZmlsZQ%3D%3D?line=35'>36</a>\u001b[0m     target_link \u001b[39m=\u001b[39m driver\u001b[39m.\u001b[39mfind_element(By\u001b[39m.\u001b[39mLINK_TEXT, store)\n\u001b[1;32m---> <a href='vscode-notebook-cell:/c%3A/Users/Hassan%20Raza/Desktop/Scrapping/test_run.ipynb#W3sZmlsZQ%3D%3D?line=36'>37</a>\u001b[0m     target_link\u001b[39m.\u001b[39;49mclick()\n\u001b[0;32m     <a href='vscode-notebook-cell:/c%3A/Users/Hassan%20Raza/Desktop/Scrapping/test_run.ipynb#W3sZmlsZQ%3D%3D?line=37'>38</a>\u001b[0m     store_name \u001b[39m=\u001b[39m driver\u001b[39m.\u001b[39mfind_element(By\u001b[39m.\u001b[39mCLASS_NAME, \u001b[39m'\u001b[39m\u001b[39mstore_title\u001b[39m\u001b[39m'\u001b[39m)\u001b[39m.\u001b[39mtext\n\u001b[0;32m     <a href='vscode-notebook-cell:/c%3A/Users/Hassan%20Raza/Desktop/Scrapping/test_run.ipynb#W3sZmlsZQ%3D%3D?line=38'>39</a>\u001b[0m     address \u001b[39m=\u001b[39m driver\u001b[39m.\u001b[39mfind_element(By\u001b[39m.\u001b[39mCLASS_NAME, \u001b[39m'\u001b[39m\u001b[39madr\u001b[39m\u001b[39m'\u001b[39m)\u001b[39m.\u001b[39mtext\n",
      "File \u001b[1;32mc:\\Users\\Hassan Raza\\miniconda3\\envs\\py10\\lib\\site-packages\\selenium\\webdriver\\remote\\webelement.py:94\u001b[0m, in \u001b[0;36mWebElement.click\u001b[1;34m(self)\u001b[0m\n\u001b[0;32m     92\u001b[0m \u001b[39mdef\u001b[39;00m \u001b[39mclick\u001b[39m(\u001b[39mself\u001b[39m) \u001b[39m-\u001b[39m\u001b[39m>\u001b[39m \u001b[39mNone\u001b[39;00m:\n\u001b[0;32m     93\u001b[0m     \u001b[39m\"\"\"Clicks the element.\"\"\"\u001b[39;00m\n\u001b[1;32m---> 94\u001b[0m     \u001b[39mself\u001b[39;49m\u001b[39m.\u001b[39;49m_execute(Command\u001b[39m.\u001b[39;49mCLICK_ELEMENT)\n",
      "File \u001b[1;32mc:\\Users\\Hassan Raza\\miniconda3\\envs\\py10\\lib\\site-packages\\selenium\\webdriver\\remote\\webelement.py:395\u001b[0m, in \u001b[0;36mWebElement._execute\u001b[1;34m(self, command, params)\u001b[0m\n\u001b[0;32m    393\u001b[0m     params \u001b[39m=\u001b[39m {}\n\u001b[0;32m    394\u001b[0m params[\u001b[39m\"\u001b[39m\u001b[39mid\u001b[39m\u001b[39m\"\u001b[39m] \u001b[39m=\u001b[39m \u001b[39mself\u001b[39m\u001b[39m.\u001b[39m_id\n\u001b[1;32m--> 395\u001b[0m \u001b[39mreturn\u001b[39;00m \u001b[39mself\u001b[39;49m\u001b[39m.\u001b[39;49m_parent\u001b[39m.\u001b[39;49mexecute(command, params)\n",
      "File \u001b[1;32mc:\\Users\\Hassan Raza\\miniconda3\\envs\\py10\\lib\\site-packages\\selenium\\webdriver\\remote\\webdriver.py:348\u001b[0m, in \u001b[0;36mWebDriver.execute\u001b[1;34m(self, driver_command, params)\u001b[0m\n\u001b[0;32m    346\u001b[0m response \u001b[39m=\u001b[39m \u001b[39mself\u001b[39m\u001b[39m.\u001b[39mcommand_executor\u001b[39m.\u001b[39mexecute(driver_command, params)\n\u001b[0;32m    347\u001b[0m \u001b[39mif\u001b[39;00m response:\n\u001b[1;32m--> 348\u001b[0m     \u001b[39mself\u001b[39;49m\u001b[39m.\u001b[39;49merror_handler\u001b[39m.\u001b[39;49mcheck_response(response)\n\u001b[0;32m    349\u001b[0m     response[\u001b[39m\"\u001b[39m\u001b[39mvalue\u001b[39m\u001b[39m\"\u001b[39m] \u001b[39m=\u001b[39m \u001b[39mself\u001b[39m\u001b[39m.\u001b[39m_unwrap_value(response\u001b[39m.\u001b[39mget(\u001b[39m\"\u001b[39m\u001b[39mvalue\u001b[39m\u001b[39m\"\u001b[39m, \u001b[39mNone\u001b[39;00m))\n\u001b[0;32m    350\u001b[0m     \u001b[39mreturn\u001b[39;00m response\n",
      "File \u001b[1;32mc:\\Users\\Hassan Raza\\miniconda3\\envs\\py10\\lib\\site-packages\\selenium\\webdriver\\remote\\errorhandler.py:229\u001b[0m, in \u001b[0;36mErrorHandler.check_response\u001b[1;34m(self, response)\u001b[0m\n\u001b[0;32m    227\u001b[0m         alert_text \u001b[39m=\u001b[39m value[\u001b[39m\"\u001b[39m\u001b[39malert\u001b[39m\u001b[39m\"\u001b[39m]\u001b[39m.\u001b[39mget(\u001b[39m\"\u001b[39m\u001b[39mtext\u001b[39m\u001b[39m\"\u001b[39m)\n\u001b[0;32m    228\u001b[0m     \u001b[39mraise\u001b[39;00m exception_class(message, screen, stacktrace, alert_text)  \u001b[39m# type: ignore[call-arg]  # mypy is not smart enough here\u001b[39;00m\n\u001b[1;32m--> 229\u001b[0m \u001b[39mraise\u001b[39;00m exception_class(message, screen, stacktrace)\n",
      "\u001b[1;31mElementClickInterceptedException\u001b[0m: Message: Element <a href=\"/store/list_state/198/Aachen/Germany/ALDI-store-locations\"> is not clickable at point (279,462) because another element <iframe id=\"aswift_4\" name=\"aswift_4\" src=\"https://googleads.g.doubleclick.net/pagead/html/r20231206/r20110914/zrt_lookup_fy2021.html?fsb=1#RS-0-&adk=2015714178&client=ca-pub-2770559672691399&fa=8&ifi=5&uci=a!5\"> obscures it\nStacktrace:\nRemoteError@chrome://remote/content/shared/RemoteError.sys.mjs:8:8\nWebDriverError@chrome://remote/content/shared/webdriver/Errors.sys.mjs:189:5\nElementClickInterceptedError@chrome://remote/content/shared/webdriver/Errors.sys.mjs:333:5\nwebdriverClickElement@chrome://remote/content/marionette/interaction.sys.mjs:176:11\ninteraction.clickElement@chrome://remote/content/marionette/interaction.sys.mjs:135:11\nclickElement@chrome://remote/content/marionette/actors/MarionetteCommandsChild.sys.mjs:202:29\nreceiveMessage@chrome://remote/content/marionette/actors/MarionetteCommandsChild.sys.mjs:84:31\n"
     ]
    }
   ],
   "source": [
    "data = []\n",
    "for link_text in li_texts:\n",
    "    target_link = driver.find_element(By.LINK_TEXT, link_text)\n",
    "    target_link.click()\n",
    "    second_page_country = driver.find_element(By.ID,\"slim_sidebar\")\n",
    "    list_elements = second_page_country.find_elements(By.TAG_NAME,\"li\")\n",
    "    country_list = [li.text for li in list_elements]\n",
    "    germany = country_list.count('Germany')\n",
    "\n",
    "    if germany:\n",
    "        print('Country Found')\n",
    "        target_link = second_page_country.find_element(By.LINK_TEXT, \"Germany\")\n",
    "        target_link.click()\n",
    "        germany = 0\n",
    "    else:\n",
    "        driver.back()\n",
    "        continue\n",
    "\n",
    "    try:\n",
    "        table_head = driver.find_element(By.XPATH, \"//th[contains(text(), 'Store By State')]\")\n",
    "    except Exception as e:\n",
    "        print(e)\n",
    "        driver.back()\n",
    "        continue\n",
    "\n",
    "    list_elements = driver.find_elements(By.TAG_NAME,\"td\")\n",
    "    state_list = [td.text for td in list_elements]\n",
    "    pages = state_list[0]\n",
    "    states = state_list[1:]\n",
    "    for state in states:\n",
    "        target_link = driver.find_element(By.LINK_TEXT, state)\n",
    "        target_link.click()\n",
    "        list_elements = driver.find_elements(By.XPATH, '//*[@id=\"main\"]/table/tbody/tr/td/a')#driver.find_elements(By.TAG_NAME,\"td\")\n",
    "        stores_list = [td.text for td in list_elements]\n",
    "        for store in stores_list:\n",
    "            target_link = driver.find_element(By.LINK_TEXT, store)\n",
    "            target_link.click()\n",
    "            store_name = driver.find_element(By.CLASS_NAME, 'store_title').text\n",
    "            address = driver.find_element(By.CLASS_NAME, 'adr').text\n",
    "            list_elements = driver.find_elements(By.TAG_NAME, 'p')\n",
    "\n",
    "            hours = [td.text for td in list_elements]\n",
    "\n",
    "            # Join the list into a single string for easier matching\n",
    "            info_text = '\\n'.join(hours)\n",
    "\n",
    "            # Use regex to extract the schedule information\n",
    "            schedule_pattern = re.compile(r'Mo:.*?So:.*?(?=\\n\\n)', re.DOTALL)\n",
    "            schedule_match = schedule_pattern.search(info_text)\n",
    "            schedule_info = schedule_match.group()\n",
    "            print(store_name)\n",
    "            data.append([store_name,address,schedule_info])\n",
    "            driver.back()\n",
    "        driver.back()\n",
    "    driver.back()"
   ]
  },
  {
   "cell_type": "code",
   "execution_count": 14,
   "metadata": {},
   "outputs": [],
   "source": [
    "driver.quit()"
   ]
  },
  {
   "cell_type": "code",
   "execution_count": 58,
   "metadata": {},
   "outputs": [],
   "source": [
    "import pandas as pd\n",
    "df = pd.DataFrame(data,columns=['name','address','timing'])"
   ]
  },
  {
   "cell_type": "code",
   "execution_count": 59,
   "metadata": {},
   "outputs": [],
   "source": [
    "df.name = df.name.str.replace('- Location & Hours','').str.strip()\n",
    "df['type'] = df['name'].str.extract(r'\\((.*?)\\)')\n",
    "df['name'] = df['name'].str.replace(r'\\([^)]*\\)', '')"
   ]
  },
  {
   "cell_type": "code",
   "execution_count": 60,
   "metadata": {},
   "outputs": [],
   "source": [
    "df[['street_locality','region_postcode']] = df.address.str.split(',', 1, expand=True)\n",
    "df[['street','locality']] = df.street_locality.str.split('\\n', 1, expand=True)\n",
    "df[['region','postcode']] = df.address.str.split(' ', 1, expand=True)"
   ]
  },
  {
   "cell_type": "code",
   "execution_count": 61,
   "metadata": {},
   "outputs": [],
   "source": [
    "df.drop(['street_locality','region_postcode'],axis=1,inplace=True)"
   ]
  },
  {
   "cell_type": "code",
   "execution_count": 63,
   "metadata": {},
   "outputs": [
    {
     "data": {
      "text/html": [
       "<div>\n",
       "<style scoped>\n",
       "    .dataframe tbody tr th:only-of-type {\n",
       "        vertical-align: middle;\n",
       "    }\n",
       "\n",
       "    .dataframe tbody tr th {\n",
       "        vertical-align: top;\n",
       "    }\n",
       "\n",
       "    .dataframe thead th {\n",
       "        text-align: right;\n",
       "    }\n",
       "</style>\n",
       "<table border=\"1\" class=\"dataframe\">\n",
       "  <thead>\n",
       "    <tr style=\"text-align: right;\">\n",
       "      <th></th>\n",
       "      <th>name</th>\n",
       "      <th>address</th>\n",
       "      <th>timing</th>\n",
       "      <th>type</th>\n",
       "      <th>street</th>\n",
       "      <th>locality</th>\n",
       "      <th>region</th>\n",
       "      <th>postcode</th>\n",
       "    </tr>\n",
       "  </thead>\n",
       "  <tbody>\n",
       "    <tr>\n",
       "      <th>14</th>\n",
       "      <td>ALDI Nord - Embser Landstraße 4 - 6 in Achim</td>\n",
       "      <td>Embser Landstraße 4 - 6\\nAchim, Achim 28832</td>\n",
       "      <td>Mo: 07:00-21:00\\nDi: 07:00-21:00\\nMi: 07:00-21...</td>\n",
       "      <td>Grocery Supermarket</td>\n",
       "      <td>Embser Landstraße 4 - 6</td>\n",
       "      <td>Achim</td>\n",
       "      <td>Embser</td>\n",
       "      <td>Landstraße 4 - 6\\nAchim, Achim 28832</td>\n",
       "    </tr>\n",
       "  </tbody>\n",
       "</table>\n",
       "</div>"
      ],
      "text/plain": [
       "                                             name  \\\n",
       "14  ALDI Nord - Embser Landstraße 4 - 6 in Achim    \n",
       "\n",
       "                                        address  \\\n",
       "14  Embser Landstraße 4 - 6\\nAchim, Achim 28832   \n",
       "\n",
       "                                               timing                  type  \\\n",
       "14  Mo: 07:00-21:00\\nDi: 07:00-21:00\\nMi: 07:00-21...  Grocery Supermarket    \n",
       "\n",
       "                     street locality  region  \\\n",
       "14  Embser Landstraße 4 - 6    Achim  Embser   \n",
       "\n",
       "                                postcode  \n",
       "14  Landstraße 4 - 6\\nAchim, Achim 28832  "
      ]
     },
     "execution_count": 63,
     "metadata": {},
     "output_type": "execute_result"
    }
   ],
   "source": [
    "df.sample()"
   ]
  },
  {
   "cell_type": "code",
   "execution_count": 64,
   "metadata": {},
   "outputs": [],
   "source": [
    "df.to_csv('./demo.csv',index=False)"
   ]
  },
  {
   "cell_type": "code",
   "execution_count": null,
   "metadata": {},
   "outputs": [],
   "source": []
  }
 ],
 "metadata": {
  "kernelspec": {
   "display_name": "py10",
   "language": "python",
   "name": "python3"
  },
  "language_info": {
   "codemirror_mode": {
    "name": "ipython",
    "version": 3
   },
   "file_extension": ".py",
   "mimetype": "text/x-python",
   "name": "python",
   "nbconvert_exporter": "python",
   "pygments_lexer": "ipython3",
   "version": "3.10.8"
  }
 },
 "nbformat": 4,
 "nbformat_minor": 2
}
